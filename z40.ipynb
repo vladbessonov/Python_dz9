{
 "cells": [
  {
   "cell_type": "markdown",
   "metadata": {},
   "source": [
    "Работать с файлом california_housing_train.csv, определить среднюю стоимость дома, где кол-во людей от 0 до 500 (population)"
   ]
  },
  {
   "cell_type": "code",
   "execution_count": 2,
   "metadata": {},
   "outputs": [],
   "source": [
    "import pandas as pd"
   ]
  },
  {
   "cell_type": "code",
   "execution_count": 3,
   "metadata": {},
   "outputs": [],
   "source": [
    "df = pd.read_csv('california_housing_train.csv')"
   ]
  },
  {
   "cell_type": "code",
   "execution_count": 4,
   "metadata": {},
   "outputs": [
    {
     "name": "stdout",
     "output_type": "stream",
     "text": [
      "<class 'pandas.core.frame.DataFrame'>\n",
      "RangeIndex: 17000 entries, 0 to 16999\n",
      "Data columns (total 9 columns):\n",
      " #   Column            Non-Null Count  Dtype  \n",
      "---  ------            --------------  -----  \n",
      " 0   longitude         17000 non-null  float64\n",
      " 1   latitude          17000 non-null  float64\n",
      " 2   housingMedianAge  17000 non-null  int64  \n",
      " 3   totalRooms        17000 non-null  int64  \n",
      " 4   totalBedrooms     17000 non-null  int64  \n",
      " 5   population        17000 non-null  int64  \n",
      " 6   households        17000 non-null  int64  \n",
      " 7   medianIncome      17000 non-null  float64\n",
      " 8   medianHouseValue  17000 non-null  int64  \n",
      "dtypes: float64(3), int64(6)\n",
      "memory usage: 1.2 MB\n"
     ]
    }
   ],
   "source": [
    "df.info()"
   ]
  },
  {
   "cell_type": "code",
   "execution_count": 5,
   "metadata": {},
   "outputs": [
    {
     "data": {
      "text/plain": [
       "169500.0"
      ]
     },
     "execution_count": 5,
     "metadata": {},
     "output_type": "execute_result"
    }
   ],
   "source": [
    "df[(df['population']>=0) & (df['population'] <= 500)]['medianHouseValue'].median()"
   ]
  }
 ],
 "metadata": {
  "kernelspec": {
   "display_name": "Python 3",
   "language": "python",
   "name": "python3"
  },
  "language_info": {
   "codemirror_mode": {
    "name": "ipython",
    "version": 3
   },
   "file_extension": ".py",
   "mimetype": "text/x-python",
   "name": "python",
   "nbconvert_exporter": "python",
   "pygments_lexer": "ipython3",
   "version": "3.11.2"
  }
 },
 "nbformat": 4,
 "nbformat_minor": 2
}
